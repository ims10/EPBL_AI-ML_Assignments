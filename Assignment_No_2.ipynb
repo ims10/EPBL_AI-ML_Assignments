{
  "nbformat": 4,
  "nbformat_minor": 0,
  "metadata": {
    "colab": {
      "provenance": []
    },
    "kernelspec": {
      "name": "python3",
      "display_name": "Python 3"
    },
    "language_info": {
      "name": "python"
    }
  },
  "cells": [
    {
      "cell_type": "code",
      "execution_count": null,
      "metadata": {
        "id": "kswE9VYoYVul"
      },
      "outputs": [],
      "source": []
    },
    {
      "cell_type": "markdown",
      "source": [
        "## **Methods of different Python Datatypes**"
      ],
      "metadata": {
        "id": "ePRpSv0fYXv4"
      }
    },
    {
      "cell_type": "markdown",
      "source": [
        "# Integer (int)"
      ],
      "metadata": {
        "id": "5PNsRZnUYZvz"
      }
    },
    {
      "cell_type": "code",
      "source": [
        "n = 42\n",
        "print(n.bit_length())  # Number of bits required to represent the number\n",
        "print(n.to_bytes(2, 'big'))  # Convert integer to bytes"
      ],
      "metadata": {
        "colab": {
          "base_uri": "https://localhost:8080/"
        },
        "id": "EuxDMbyXYguF",
        "outputId": "7f0c4fb3-5747-4431-cde3-266901c24414"
      },
      "execution_count": 1,
      "outputs": [
        {
          "output_type": "stream",
          "name": "stdout",
          "text": [
            "6\n",
            "b'\\x00*'\n"
          ]
        }
      ]
    },
    {
      "cell_type": "markdown",
      "source": [
        "# Float (float)"
      ],
      "metadata": {
        "id": "8bum5_YHYxnW"
      }
    },
    {
      "cell_type": "code",
      "source": [
        "f = 3.14159\n",
        "print(f.is_integer())  # Check if the float is an integer\n",
        "print(round(f, 2))  # Round to 2 decimal places"
      ],
      "metadata": {
        "colab": {
          "base_uri": "https://localhost:8080/"
        },
        "id": "YsZ5LNwzY10X",
        "outputId": "f37210c4-2b22-45f0-daa6-852f312e9ec3"
      },
      "execution_count": 2,
      "outputs": [
        {
          "output_type": "stream",
          "name": "stdout",
          "text": [
            "False\n",
            "3.14\n"
          ]
        }
      ]
    },
    {
      "cell_type": "markdown",
      "source": [
        "# Complex (complex)"
      ],
      "metadata": {
        "id": "XxaD8gVmY7dI"
      }
    },
    {
      "cell_type": "code",
      "source": [
        "c = 3 + 4j\n",
        "print(c.conjugate())  # Conjugate of complex number\n",
        "print(abs(c))  # Magnitude of the complex number"
      ],
      "metadata": {
        "colab": {
          "base_uri": "https://localhost:8080/"
        },
        "id": "zWp5-JblY_1z",
        "outputId": "7f4119d2-d8d8-4481-bac9-3a75ffc9b588"
      },
      "execution_count": 6,
      "outputs": [
        {
          "output_type": "stream",
          "name": "stdout",
          "text": [
            "(3-4j)\n",
            "5.0\n"
          ]
        }
      ]
    },
    {
      "cell_type": "markdown",
      "source": [
        "# List (list)"
      ],
      "metadata": {
        "id": "wLzQZ-TwZGRT"
      }
    },
    {
      "cell_type": "code",
      "source": [
        "lst = [1, 2, 3, 4]\n",
        "lst.append(5)  # Add an element\n",
        "print(lst.count(2))  # Count occurrences of 2\n",
        "print(lst.pop())  # Remove and return last item"
      ],
      "metadata": {
        "colab": {
          "base_uri": "https://localhost:8080/"
        },
        "id": "jDyAHKCQZHt0",
        "outputId": "2e81ab21-1672-4038-fa0f-5b50f527855c"
      },
      "execution_count": 7,
      "outputs": [
        {
          "output_type": "stream",
          "name": "stdout",
          "text": [
            "1\n",
            "5\n"
          ]
        }
      ]
    },
    {
      "cell_type": "markdown",
      "source": [
        "# Tuple (tuple)"
      ],
      "metadata": {
        "id": "kHruHQqgZP7R"
      }
    },
    {
      "cell_type": "code",
      "source": [
        "tpl = (1, 2, 3, 4)\n",
        "print(tpl.index(2))  # Get index of an element\n",
        "print(tpl.count(3))  # Count occurrences of 3"
      ],
      "metadata": {
        "colab": {
          "base_uri": "https://localhost:8080/"
        },
        "id": "7aMquvYVZRHu",
        "outputId": "9ea28fb4-ae72-43e4-e12c-c77105f46253"
      },
      "execution_count": 8,
      "outputs": [
        {
          "output_type": "stream",
          "name": "stdout",
          "text": [
            "1\n",
            "1\n"
          ]
        }
      ]
    },
    {
      "cell_type": "markdown",
      "source": [
        "# String (str)"
      ],
      "metadata": {
        "id": "srAF1qOwZU_7"
      }
    },
    {
      "cell_type": "code",
      "source": [
        "s = \"hello world\"\n",
        "print(s.upper())  # Convert to uppercase\n",
        "print(s.replace(\"world\", \"Python\"))  # Replace substring"
      ],
      "metadata": {
        "colab": {
          "base_uri": "https://localhost:8080/"
        },
        "id": "Scm6kEbtZY2w",
        "outputId": "ad53c52b-8ebb-46eb-e105-aad786b36964"
      },
      "execution_count": 9,
      "outputs": [
        {
          "output_type": "stream",
          "name": "stdout",
          "text": [
            "HELLO WORLD\n",
            "hello Python\n"
          ]
        }
      ]
    },
    {
      "cell_type": "markdown",
      "source": [
        "# Set (set)"
      ],
      "metadata": {
        "id": "OZ46MsAjZcmf"
      }
    },
    {
      "cell_type": "code",
      "source": [
        "st = {1, 2, 3, 4}\n",
        "st.add(5)  # Add element to set\n",
        "print(st.intersection({2, 3, 6}))  # Intersection with another set"
      ],
      "metadata": {
        "colab": {
          "base_uri": "https://localhost:8080/"
        },
        "id": "dC6KwDN6ZgXn",
        "outputId": "233fb3bb-6fc5-4d60-c177-f8a9a04604eb"
      },
      "execution_count": 10,
      "outputs": [
        {
          "output_type": "stream",
          "name": "stdout",
          "text": [
            "{2, 3}\n"
          ]
        }
      ]
    },
    {
      "cell_type": "markdown",
      "source": [
        "# Dictionary (dict)"
      ],
      "metadata": {
        "id": "Xp5X5JNaZj5U"
      }
    },
    {
      "cell_type": "code",
      "source": [
        "d = {\"a\": 1, \"b\": 2}\n",
        "print(d.keys())  # Get dictionary keys\n",
        "print(d.get(\"a\"))  # Get value for a key\n",
        "print(d.pop(\"b\"))  # Remove and return value of key 'b'"
      ],
      "metadata": {
        "colab": {
          "base_uri": "https://localhost:8080/"
        },
        "id": "qH6QZwZmf6L9",
        "outputId": "affaafac-89fe-4ea0-90e0-e239c4619e43"
      },
      "execution_count": 11,
      "outputs": [
        {
          "output_type": "stream",
          "name": "stdout",
          "text": [
            "dict_keys(['a', 'b'])\n",
            "1\n",
            "2\n"
          ]
        }
      ]
    },
    {
      "cell_type": "markdown",
      "source": [
        "# Boolean (bool)"
      ],
      "metadata": {
        "id": "M0eBP0Jmf9CN"
      }
    },
    {
      "cell_type": "code",
      "source": [
        "b = True\n",
        "print(b.bit_length())  # Number of bits needed to represent\n",
        "print(b.__int__())  # Convert to integer"
      ],
      "metadata": {
        "colab": {
          "base_uri": "https://localhost:8080/"
        },
        "id": "IHhuNN--gBSg",
        "outputId": "e9ea721c-fc6e-4622-84b0-8848403fb46f"
      },
      "execution_count": 12,
      "outputs": [
        {
          "output_type": "stream",
          "name": "stdout",
          "text": [
            "1\n",
            "1\n"
          ]
        }
      ]
    }
  ]
}